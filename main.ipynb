{
 "cells": [
  {
   "cell_type": "markdown",
   "id": "6fa0c0c0",
   "metadata": {},
   "source": [
    "# Drowsiness Detection System\n",
    "This project implements a Drowsiness Detection System using Python and OpenCV. The system uses facial landmarks to detect eye closure and determine if a person is drowsy."
   ]
  },
  {
   "cell_type": "markdown",
   "id": "211b0920",
   "metadata": {},
   "source": [
    "## Objectives\n",
    "- To detect drowsiness in real-time using a webcam.\n",
    "- To alert the user when drowsiness is detected.\n",
    "- To provide a user-friendly interface for monitoring drowsiness.\n",
    "- To utilize machine learning techniques for improved accuracy.\n"
   ]
  },
  {
   "cell_type": "markdown",
   "id": "7a5dacb1",
   "metadata": {},
   "source": [
    "## Data Set Used\n",
    "Drowsiness Detection Dataset from Kaggle: [Drowsiness Detection Dataset](https://www.kaggle.com/datasets/hazemfahmy/openned-closed-eyes?resource=download)"
   ]
  }
 ],
 "metadata": {
  "kernelspec": {
   "display_name": "base",
   "language": "python",
   "name": "python3"
  },
  "language_info": {
   "name": "python",
   "version": "3.13.5"
  }
 },
 "nbformat": 4,
 "nbformat_minor": 5
}
