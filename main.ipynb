{
 "cells": [
  {
   "cell_type": "markdown",
   "id": "6fa0c0c0",
   "metadata": {},
   "source": [
    "# Drowsiness Detection System\n",
    "This project implements a Drowsiness Detection System using Python and OpenCV. The system uses facial landmarks to detect eye closure and determine if a person is drowsy."
   ]
  }
 ],
 "metadata": {
  "kernelspec": {
   "display_name": "base",
   "language": "python",
   "name": "python3"
  },
  "language_info": {
   "name": "python",
   "version": "3.13.5"
  }
 },
 "nbformat": 4,
 "nbformat_minor": 5
}
