{
 "cells": [
  {
   "cell_type": "markdown",
   "id": "6fa0c0c0",
   "metadata": {},
   "source": [
    "# Drowsiness Detection System\n",
    "This project implements a Drowsiness Detection System using Python and OpenCV. The system uses facial landmarks to detect eye closure and determine if a person is drowsy."
   ]
  },
  {
   "cell_type": "markdown",
   "id": "211b0920",
   "metadata": {},
   "source": [
    "## Objectives\n",
    "- To detect drowsiness in real-time using a webcam.\n",
    "- To alert the user when drowsiness is detected.\n",
    "- To provide a user-friendly interface for monitoring drowsiness.\n",
    "- To utilize machine learning techniques for improved accuracy.\n"
   ]
  },
  {
   "cell_type": "markdown",
   "id": "7a5dacb1",
   "metadata": {},
   "source": [
    "## Data Set Used\n",
    "Drowsiness Detection Dataset from Kaggle: [Drowsiness Detection Dataset](https://www.kaggle.com/datasets/hazemfahmy/openned-closed-eyes?resource=download)"
   ]
  },
  {
   "cell_type": "markdown",
   "id": "c5e6b784",
   "metadata": {},
   "source": [
    "## Mediapipe Testing"
   ]
  },
  {
   "cell_type": "code",
   "execution_count": 3,
   "id": "a5e8524d",
   "metadata": {},
   "outputs": [],
   "source": [
    "import cv2\n",
    "import mediapipe as mp\n",
    "\n",
    "mp_face_mesh = mp.solutions.face_mesh\n",
    "face_mesh = mp_face_mesh.FaceMesh(static_image_mode=True)  # For video files, can set static_image_mode=False\n",
    "\n",
    "# Replace with a sample image or video frame path from your dataset\n",
    "img_path = r'D:\\ML\\Drowsiness_Detection_System\\test_img.jpg'\n",
    "image = cv2.imread(img_path)\n",
    "rgb_image = cv2.cvtColor(image, cv2.COLOR_BGR2RGB)\n",
    "results = face_mesh.process(rgb_image)\n",
    "\n",
    "if results.multi_face_landmarks:\n",
    "    for landmarks in results.multi_face_landmarks:\n",
    "        for idx, lm in enumerate(landmarks.landmark):\n",
    "            ih, iw, _ = image.shape\n",
    "            x, y = int(lm.x * iw), int(lm.y * ih)\n",
    "            cv2.circle(image, (x, y), 1, (0, 255, 0), -1)\n",
    "    cv2.imshow('Facial Landmarks', image)\n",
    "    cv2.waitKey(0)\n",
    "    cv2.destroyAllWindows()\n",
    "else:\n",
    "    print(\"No face detected.\")\n",
    "\n"
   ]
  },
  {
   "cell_type": "markdown",
   "id": "a61fda7a",
   "metadata": {},
   "source": [
    "## HELPER FUNCTION FOR EAR AND MAR "
   ]
  },
  {
   "cell_type": "code",
   "execution_count": null,
   "id": "2a0219ab",
   "metadata": {},
   "outputs": [],
   "source": [
    "import numpy as np\n",
    "\n",
    "def calc_EAR(eye_landmarks):\n",
    "    \"\"\"\n",
    "    eye_landmarks: list of 6 (x, y) coordinates in order:\n",
    "    [p1, p2, p3, p4, p5, p6]\n",
    "    \"\"\"\n",
    "    A = np.linalg.norm(np.array(eye_landmarks[1]) - np.array(eye_landmarks[5]))  # p2-p6\n",
    "    B = np.linalg.norm(np.array(eye_landmarks[2]) - np.array(eye_landmarks[4]))  # p3-p5\n",
    "    C = np.linalg.norm(np.array(eye_landmarks[0]) - np.array(eye_landmarks[3]))  # p1-p4\n",
    "    ear = (A + B) / (2.0 * C)\n",
    "    return ear\n",
    "\n",
    "def calc_MAR(mouth_landmarks):\n",
    "    \"\"\"\n",
    "    mouth_landmarks: list of 8 (x, y) coordinates in order:\n",
    "    [p1, p2, p3, p4, p5, p6, p7, p8]\n",
    "    Adjust indices according to your landmark mapping.\n",
    "    \"\"\"\n",
    "    A = np.linalg.norm(np.array(mouth_landmarks[1]) - np.array(mouth_landmarks[7]))  # p2-p8\n",
    "    B = np.linalg.norm(np.array(mouth_landmarks[2]) - np.array(mouth_landmarks[6]))  # p3-p7\n",
    "    C = np.linalg.norm(np.array(mouth_landmarks[3]) - np.array(mouth_landmarks[5]))  # p4-p6\n",
    "    D = np.linalg.norm(np.array(mouth_landmarks[0]) - np.array(mouth_landmarks[4]))  # p1-p5\n",
    "    mar = (A + B + C) / (2.0 * D)\n",
    "    return mar\n"
   ]
  }
 ],
 "metadata": {
  "kernelspec": {
   "display_name": "venv",
   "language": "python",
   "name": "python3"
  },
  "language_info": {
   "codemirror_mode": {
    "name": "ipython",
    "version": 3
   },
   "file_extension": ".py",
   "mimetype": "text/x-python",
   "name": "python",
   "nbconvert_exporter": "python",
   "pygments_lexer": "ipython3",
   "version": "3.11.0"
  }
 },
 "nbformat": 4,
 "nbformat_minor": 5
}
